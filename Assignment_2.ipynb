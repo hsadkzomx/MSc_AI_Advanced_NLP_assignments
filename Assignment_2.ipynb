{
 "cells": [
  {
   "cell_type": "markdown",
   "metadata": {
    "id": "FSCr4xKJnhZ6"
   },
   "source": [
    "# Overview\n",
    "**Assignment 2** focuses on the training on a Neural Machine Translation (NMT) system for English-Irish translation where English is the source language and Irish is the target language. \n",
    "\n",
    "**Grading Policy** \n",
    "Assignment 2 is graded and will be worth 25% of your overall grade. This assignment is worth a total of 50 points distributed over the tasks below.  Please note that this is an individual assignment and you must not work with other students to complete this assessment. Any copying from other students, from student exercises from previous years, and any internet resources will not be tolerated. Plagiarised assignments will receive zero marks and the students who commit this act will be reported. Feel free to reach out to the TAs and instructors if you have any questions.\n",
    "\n",
    "## Task 1 - Data Collection and Preprocessing (10 points)\n",
    "## Task 1a. Data Loading (5 pts)\n",
    "Dataset: https://www.dropbox.com/s/zkgclwc9hrx7y93/DGT-en-ga.txt.zip?dl=0 \n",
    "*  Download a English-Irish dataset and decompress it. The `DGT.en-ga.en` file contains a list english sentences and `DGT.en-ga.ga` contains the paralell Irish sentences. Read both files into the Jupyter environment and load them into a pandas dataframe. \n",
    "* Randomly sample 12,000 rows.\n",
    "* Split the sampled data into train (10k), development (1k) and test set (1k)"
   ]
  },
  {
   "cell_type": "code",
   "execution_count": 1,
   "metadata": {
    "id": "mjieQgrsocnh",
    "tags": []
   },
   "outputs": [],
   "source": [
    "# Your Code Here\n",
    "\n",
    "import pandas as pd\n",
    "\n",
    "# read the files by line\n",
    "with open(\"DGT-en-ga.txt/DGT.en-ga.en\") as f:\n",
    "    english = f.read().splitlines()\n",
    "\n",
    "with open(\"DGT-en-ga.txt/DGT.en-ga.ga\") as f:\n",
    "    irish = f.read().splitlines()\n",
    "    \n",
    "assert len(english) == len(irish)\n",
    "\n",
    "# create a df contains english lines with coresponding french lines\n",
    "data = pd.DataFrame({\n",
    "            'source': english,\n",
    "            'target': irish\n",
    "        })\n",
    "data[\"len\"] = data[\"target\"].apply(lambda x: len(x.split(\" \")))"
   ]
  },
  {
   "cell_type": "code",
   "execution_count": 2,
   "metadata": {
    "tags": []
   },
   "outputs": [],
   "source": [
    "# Randomly sample 12,000 rows.\n",
    "sample = data.sample(12000, random_state=2023)"
   ]
  },
  {
   "cell_type": "code",
   "execution_count": 3,
   "metadata": {
    "tags": []
   },
   "outputs": [
    {
     "name": "stdout",
     "output_type": "stream",
     "text": [
      "Dataset => Train 10000 | Val 1000 | Test 1000\n"
     ]
    },
    {
     "data": {
      "text/html": [
       "<div>\n",
       "<style scoped>\n",
       "    .dataframe tbody tr th:only-of-type {\n",
       "        vertical-align: middle;\n",
       "    }\n",
       "\n",
       "    .dataframe tbody tr th {\n",
       "        vertical-align: top;\n",
       "    }\n",
       "\n",
       "    .dataframe thead th {\n",
       "        text-align: right;\n",
       "    }\n",
       "</style>\n",
       "<table border=\"1\" class=\"dataframe\">\n",
       "  <thead>\n",
       "    <tr style=\"text-align: right;\">\n",
       "      <th></th>\n",
       "      <th>source</th>\n",
       "      <th>target</th>\n",
       "      <th>len</th>\n",
       "      <th>split</th>\n",
       "    </tr>\n",
       "  </thead>\n",
       "  <tbody>\n",
       "    <tr>\n",
       "      <th>34872</th>\n",
       "      <td>The National Committee shall be responsible fo...</td>\n",
       "      <td>Beidh an Coiste Náisiúnta freagrach as roghnú ...</td>\n",
       "      <td>10</td>\n",
       "      <td>train</td>\n",
       "    </tr>\n",
       "    <tr>\n",
       "      <th>22502</th>\n",
       "      <td>For the purposes of this Regulation, the defin...</td>\n",
       "      <td>Chun críche an Rialacháin seo, beidh feidhm ag...</td>\n",
       "      <td>50</td>\n",
       "      <td>train</td>\n",
       "    </tr>\n",
       "    <tr>\n",
       "      <th>103092</th>\n",
       "      <td>Action to be taken following official controls</td>\n",
       "      <td>athléimneacht,</td>\n",
       "      <td>1</td>\n",
       "      <td>train</td>\n",
       "    </tr>\n",
       "    <tr>\n",
       "      <th>119903</th>\n",
       "      <td>The Member States and in particular the compet...</td>\n",
       "      <td>Féadfaidh an Coimisiún freisin a iarraidh ar a...</td>\n",
       "      <td>36</td>\n",
       "      <td>train</td>\n",
       "    </tr>\n",
       "    <tr>\n",
       "      <th>32092</th>\n",
       "      <td>A delegated act adopted pursuant to Article 11...</td>\n",
       "      <td>Ní thiocfaidh gníomh tarmligthe a ghlactar de ...</td>\n",
       "      <td>83</td>\n",
       "      <td>train</td>\n",
       "    </tr>\n",
       "  </tbody>\n",
       "</table>\n",
       "</div>"
      ],
      "text/plain": [
       "                                                   source  \\\n",
       "34872   The National Committee shall be responsible fo...   \n",
       "22502   For the purposes of this Regulation, the defin...   \n",
       "103092     Action to be taken following official controls   \n",
       "119903  The Member States and in particular the compet...   \n",
       "32092   A delegated act adopted pursuant to Article 11...   \n",
       "\n",
       "                                                   target  len  split  \n",
       "34872   Beidh an Coiste Náisiúnta freagrach as roghnú ...   10  train  \n",
       "22502   Chun críche an Rialacháin seo, beidh feidhm ag...   50  train  \n",
       "103092                                     athléimneacht,    1  train  \n",
       "119903  Féadfaidh an Coimisiún freisin a iarraidh ar a...   36  train  \n",
       "32092   Ní thiocfaidh gníomh tarmligthe a ghlactar de ...   83  train  "
      ]
     },
     "execution_count": 3,
     "metadata": {},
     "output_type": "execute_result"
    }
   ],
   "source": [
    "# Split the sampled data into train (10k), development (1k) and test set (1k)\n",
    "from sklearn.model_selection import train_test_split\n",
    "\n",
    "train, test = train_test_split(sample, test_size=0.0833, random_state=2013)\n",
    "train, val = train_test_split(train, test_size=0.0909, random_state=2013)\n",
    "\n",
    "train[\"split\"] = \"train\"\n",
    "val[\"split\"] = \"split\"\n",
    "test[\"split\"] = \"test\"\n",
    "\n",
    "dataset = pd.concat([train, val, test])\n",
    "\n",
    "print(f\"Dataset => Train {len(train)} | Val {len(val)} | Test {len(test)}\")\n",
    "\n",
    "dataset.head(5)"
   ]
  },
  {
   "cell_type": "markdown",
   "metadata": {
    "id": "ejav7LUqokNc"
   },
   "source": [
    "## Task 1b. Preprocessing (5 pts)\n",
    "* Add '<bof\\>' to denote beginning of sentence and '<eos\\>' to denote the end of the sentence to each target line.\n",
    "* Perform the following pre-processing steps:\n",
    "  * Lowercase the text\n",
    "  * Remove all punctuation\n",
    "  * tokenize the text \n",
    "*  Build seperate vocabularies for each language. \n",
    "  * Assign each unique word an id value \n",
    "*Print statistics on the selected dataset:\n",
    "  * Number of samples\n",
    "  * Number of unique source language tokens\n",
    "  * Number of unique target language tokens\n",
    "  * Max sequence length of source language\n",
    "  * Max sequence length of target language\n",
    "\n"
   ]
  },
  {
   "cell_type": "code",
   "execution_count": 4,
   "metadata": {
    "id": "CGC-CvmHojdB",
    "tags": []
   },
   "outputs": [],
   "source": [
    "# Your code here\n",
    "from nltk.tokenize import word_tokenize\n",
    "from typing import List\n",
    "import re\n",
    "\n",
    "class Language:\n",
    "    \n",
    "    def __init__(self, language: str):\n",
    "        self.language = language, # name of the language\n",
    "        self.word2index = {\"PAD\": 0, \"SOS\": 1, \"EOS\": 2} # map each word in vocab to id\n",
    "        self.index2word = {0: \"PAD\", 1: \"SOS\", 2: \"EOS\"} # reverse map of id to word in vocab\n",
    "        self.word2count = {} # count of each word in vocab\n",
    "        self.n_words = len(self.index2word) # number of words in vocab\n",
    "        \n",
    "    def addSentence(self, sentence: str):\n",
    "        \"\"\"\n",
    "        Given a sentence, \n",
    "            lowercase the sentence, \n",
    "            remove all punctuation and \n",
    "            tokenize it.\n",
    "        For each word in tokenized list call the addWord method\n",
    "        \"\"\"\n",
    "        \n",
    "        text = sentence.lower() # lowercase the sentence\n",
    "        clean_text = re.sub(r'[^\\w\\s]', '', text).strip() # remove all punctuation\n",
    "        for word in word_tokenize(clean_text): # tokenize the sentence\n",
    "            self.addWord(word)\n",
    "            \n",
    "    def addWord(self, word: str):\n",
    "        \"\"\"\n",
    "        For each input word, check if it exists in the word2index. \n",
    "        Update.\n",
    "        \"\"\"\n",
    "        \n",
    "        if word not in self.word2index:\n",
    "            self.word2index[word] = self.n_words\n",
    "            self.word2count[word] = 1\n",
    "            self.index2word[self.n_words] = word\n",
    "            self.n_words += 1\n",
    "            \n",
    "        else:\n",
    "            self.word2count[word] += 1\n",
    "            \n",
    "    def encodeSentence(self, sentence: str) -> List[int]:\n",
    "        \"\"\"\n",
    "        Given a sentence, \n",
    "            lowercase it, \n",
    "            remove all punctuation, \n",
    "            add \"SOS\" and \"EOS\", and \n",
    "            tokenize it\n",
    "        Return a list of word ids.\n",
    "        \"\"\"\n",
    "        \n",
    "        text = sentence.lower()\n",
    "        clean_text = re.sub(r'[^\\w\\s]', '', text).strip()\n",
    "        \n",
    "        # Add '<bof>' to denote beginning of sentence and '<eos>' to denote the end of the sentence to each target line.\n",
    "        clean_text = \"SOS \" + clean_text + \" EOS\" \n",
    "        \n",
    "        return [self.word2index[word] for word in word_tokenize(clean_text) if word in self.word2index]\n",
    "    \n",
    "    def decodeIds(self, ids: list) -> List[str]:\n",
    "        \"\"\"\n",
    "        Given a list of word ids, look for the ids in the index2word and return a string representing the decoded sentence.\n",
    "        \"\"\"\n",
    "        \n",
    "        return \" \".join([self.index2word[tok] for tok in ids])"
   ]
  },
  {
   "cell_type": "code",
   "execution_count": 5,
   "metadata": {
    "tags": []
   },
   "outputs": [],
   "source": [
    "# Build seperate vocabularies for each language.\n",
    "english = Language(\"english\")\n",
    "irish = Language(\"irish\")\n",
    "\n",
    "for _, row in dataset.iterrows():\n",
    "    english.addSentence(row[\"source\"])\n",
    "    irish.addSentence(row[\"target\"])"
   ]
  },
  {
   "cell_type": "code",
   "execution_count": 6,
   "metadata": {
    "tags": []
   },
   "outputs": [
    {
     "name": "stdout",
     "output_type": "stream",
     "text": [
      "Number of samples: 12000\n",
      "Number of unique source language tokens: 11828\n",
      "Number of unique target language tokens: 16240\n",
      "Max sequence length of source language: 152\n",
      "Max sequence length of target language: 43\n"
     ]
    }
   ],
   "source": [
    "# print\n",
    "\n",
    "print(f\"Number of samples: {len(sample)}\")\n",
    "print(f\"Number of unique source language tokens: {english.n_words}\")\n",
    "print(f\"Number of unique target language tokens: {irish.n_words}\")\n",
    "print(f\"Max sequence length of source language: {len(max(dataset['source']))}\")\n",
    "print(f\"Max sequence length of target language: {len(max(dataset['target']))}\")"
   ]
  },
  {
   "cell_type": "markdown",
   "metadata": {
    "id": "oauhQ1fjsC69"
   },
   "source": [
    "## Task 2. Model Implementation and Training (30 pts)\n",
    "\n",
    "\n",
    "\n",
    "## Task 2a. Encoder-Decoder Model Implementation (10 pts)\n",
    "Implement an Encoder-Decoder model in Pytorch with the following components\n",
    "* A single layer RNN based encoder. \n",
    "* A single layer RNN based decoder\n",
    "* A Encoder-Decoder model based on the above components that support sequence-to-sequence modelling. For the encoder/decoder you can use RNN, LSTMs or GRU. Use a hidden dimension of 256 or less depending on your compute constraints. "
   ]
  },
  {
   "cell_type": "code",
   "execution_count": 7,
   "metadata": {
    "id": "7gvR8hz0tMoG"
   },
   "outputs": [],
   "source": [
    "# Your code here\n",
    "import torch\n",
    "import torch.nn as nn\n",
    "import torch.nn.functional as F\n",
    "\n",
    "# code reference: https://github.com/bentrevett/pytorch-seq2seq/blob/master/1%20-%20Sequence%20to%20Sequence%20Learning%20with%20Neural%20Networks.ipynb"
   ]
  },
  {
   "cell_type": "code",
   "execution_count": 8,
   "metadata": {
    "tags": []
   },
   "outputs": [],
   "source": [
    "# A single layer RNN based encoder.\n",
    "class Encoder(nn.Module):\n",
    "    def __init__(self, input_dim, emb_dim, hid_dim, n_layers, dropout):\n",
    "        super().__init__()\n",
    "        \n",
    "        self.hid_dim = hid_dim\n",
    "        self.n_layers = n_layers\n",
    "        \n",
    "        self.embedding = nn.Embedding(input_dim, emb_dim)\n",
    "        \n",
    "        self.rnn = nn.LSTM(emb_dim, hid_dim, n_layers, dropout = dropout)\n",
    "        \n",
    "        self.dropout = nn.Dropout(dropout)\n",
    "        \n",
    "    def forward(self, src):\n",
    "        \n",
    "        #src = [src len, batch size]\n",
    "        \n",
    "        embedded = self.dropout(self.embedding(src))\n",
    "        \n",
    "        #embedded = [src len, batch size, emb dim]\n",
    "        \n",
    "        outputs, (hidden, cell) = self.rnn(embedded)\n",
    "        \n",
    "        #outputs = [src len, batch size, hid dim * n directions]\n",
    "        #hidden = [n layers * n directions, batch size, hid dim]\n",
    "        #cell = [n layers * n directions, batch size, hid dim]\n",
    "        \n",
    "        #outputs are always from the top hidden layer\n",
    "        \n",
    "        return hidden, cell"
   ]
  },
  {
   "cell_type": "code",
   "execution_count": 9,
   "metadata": {
    "tags": []
   },
   "outputs": [],
   "source": [
    "# A single layer RNN based decoder\n",
    "class Decoder(nn.Module):\n",
    "    def __init__(self, output_dim, emb_dim, hid_dim, n_layers, dropout):\n",
    "        super().__init__()\n",
    "        \n",
    "        self.output_dim = output_dim\n",
    "        self.hid_dim = hid_dim\n",
    "        self.n_layers = n_layers\n",
    "        \n",
    "        self.embedding = nn.Embedding(output_dim, emb_dim)\n",
    "        \n",
    "        self.rnn = nn.LSTM(emb_dim, hid_dim, n_layers, dropout = dropout)\n",
    "        \n",
    "        self.fc_out = nn.Linear(hid_dim, output_dim)\n",
    "        \n",
    "        self.dropout = nn.Dropout(dropout)\n",
    "        \n",
    "    def forward(self, input, hidden, cell):\n",
    "        \n",
    "        #input = [batch size]\n",
    "        #hidden = [n layers * n directions, batch size, hid dim]\n",
    "        #cell = [n layers * n directions, batch size, hid dim]\n",
    "        \n",
    "        #n directions in the decoder will both always be 1, therefore:\n",
    "        #hidden = [n layers, batch size, hid dim]\n",
    "        #context = [n layers, batch size, hid dim]\n",
    "        \n",
    "        input = input.unsqueeze(0)\n",
    "        \n",
    "        #input = [1, batch size]\n",
    "        \n",
    "        embedded = self.dropout(self.embedding(input))\n",
    "        \n",
    "        #embedded = [1, batch size, emb dim]\n",
    "                \n",
    "        output, (hidden, cell) = self.rnn(embedded, (hidden, cell))\n",
    "        \n",
    "        #output = [seq len, batch size, hid dim * n directions]\n",
    "        #hidden = [n layers * n directions, batch size, hid dim]\n",
    "        #cell = [n layers * n directions, batch size, hid dim]\n",
    "        \n",
    "        #seq len and n directions will always be 1 in the decoder, therefore:\n",
    "        #output = [1, batch size, hid dim]\n",
    "        #hidden = [n layers, batch size, hid dim]\n",
    "        #cell = [n layers, batch size, hid dim]\n",
    "        \n",
    "        prediction = self.fc_out(output.squeeze(0))\n",
    "        \n",
    "        #prediction = [batch size, output dim]\n",
    "        \n",
    "        return prediction, hidden, cell"
   ]
  },
  {
   "cell_type": "code",
   "execution_count": 10,
   "metadata": {
    "tags": []
   },
   "outputs": [],
   "source": [
    "# A Encoder-Decoder model based on the above components that support sequence-to-sequence modelling. For the encoder/decoder I use LSTMs\n",
    "class EncoderDecoder(nn.Module):\n",
    "    def __init__(self, encoder, decoder, device):\n",
    "        super().__init__()\n",
    "        \n",
    "        self.encoder = encoder\n",
    "        self.decoder = decoder\n",
    "        self.device = device\n",
    "        \n",
    "        assert encoder.hid_dim == decoder.hid_dim, \"Hidden dimensions of encoder and decoder must be equal!\"\n",
    "        assert encoder.n_layers == decoder.n_layers, \"Encoder and decoder must have equal number of layers!\"\n",
    "        \n",
    "    def forward(self, src, trg, teacher_forcing_ratio = 0.5):\n",
    "        \n",
    "        #src = [src len, batch size]\n",
    "        #trg = [trg len, batch size]\n",
    "        #teacher_forcing_ratio is probability to use teacher forcing\n",
    "        #e.g. if teacher_forcing_ratio is 0.75 we use ground-truth inputs 75% of the time\n",
    "        \n",
    "        batch_size = trg.shape[1]\n",
    "        trg_len = trg.shape[0]\n",
    "        trg_vocab_size = self.decoder.output_dim\n",
    "        \n",
    "        #tensor to store decoder outputs\n",
    "        outputs = torch.zeros(trg_len, batch_size, trg_vocab_size).to(self.device)\n",
    "        \n",
    "        #last hidden state of the encoder is used as the initial hidden state of the decoder\n",
    "        hidden, cell = self.encoder(src)\n",
    "        \n",
    "        #first input to the decoder is the <sos> tokens\n",
    "        input = trg[0,:]\n",
    "        \n",
    "        for t in range(1, trg_len):\n",
    "            \n",
    "            #insert input token embedding, previous hidden and previous cell states\n",
    "            #receive output tensor (predictions) and new hidden and cell states\n",
    "            output, hidden, cell = self.decoder(input, hidden, cell)\n",
    "            \n",
    "            #place predictions in a tensor holding predictions for each token\n",
    "            outputs[t] = output\n",
    "            \n",
    "            #decide if we are going to use teacher forcing or not\n",
    "            teacher_force = random.random() < teacher_forcing_ratio\n",
    "            \n",
    "            #get the highest predicted token from our predictions\n",
    "            top1 = output.argmax(1) \n",
    "            \n",
    "            #if teacher forcing, use actual next token as next input\n",
    "            #if not, use predicted token\n",
    "            input = trg[t] if teacher_force else top1\n",
    "        \n",
    "        return outputs"
   ]
  },
  {
   "cell_type": "code",
   "execution_count": 11,
   "metadata": {
    "tags": []
   },
   "outputs": [],
   "source": [
    "INPUT_DIM = english.n_words\n",
    "OUTPUT_DIM = irish.n_words\n",
    "ENC_EMB_DIM = 256\n",
    "DEC_EMB_DIM = 256\n",
    "HID_DIM = 128\n",
    "N_LAYERS = 2\n",
    "ENC_DROPOUT = 0.5\n",
    "DEC_DROPOUT = 0.5\n",
    "\n",
    "#device = \"mps\" if torch.backends.mps.is_available() else \"cpu\"\n",
    "device = \"cpu\"\n",
    "\n",
    "enc = Encoder(INPUT_DIM, ENC_EMB_DIM, HID_DIM, N_LAYERS, ENC_DROPOUT)\n",
    "dec = Decoder(OUTPUT_DIM, DEC_EMB_DIM, HID_DIM, N_LAYERS, DEC_DROPOUT)\n",
    "\n",
    "model = EncoderDecoder(enc, dec, device).to(device)"
   ]
  },
  {
   "cell_type": "code",
   "execution_count": 12,
   "metadata": {
    "tags": []
   },
   "outputs": [
    {
     "data": {
      "text/plain": [
       "EncoderDecoder(\n",
       "  (encoder): Encoder(\n",
       "    (embedding): Embedding(11828, 256)\n",
       "    (rnn): LSTM(256, 128, num_layers=2, dropout=0.5)\n",
       "    (dropout): Dropout(p=0.5, inplace=False)\n",
       "  )\n",
       "  (decoder): Decoder(\n",
       "    (embedding): Embedding(16240, 256)\n",
       "    (rnn): LSTM(256, 128, num_layers=2, dropout=0.5)\n",
       "    (fc_out): Linear(in_features=128, out_features=16240, bias=True)\n",
       "    (dropout): Dropout(p=0.5, inplace=False)\n",
       "  )\n",
       ")"
      ]
     },
     "execution_count": 12,
     "metadata": {},
     "output_type": "execute_result"
    }
   ],
   "source": [
    "def init_weights(m):\n",
    "    for name, param in m.named_parameters():\n",
    "        if 'weight' in name:\n",
    "            nn.init.normal_(param.data, mean=0, std=0.01)\n",
    "        else:\n",
    "            nn.init.constant_(param.data, 0)\n",
    "            \n",
    "model.apply(init_weights)"
   ]
  },
  {
   "cell_type": "markdown",
   "metadata": {
    "id": "yqdYhxa1uiqF"
   },
   "source": [
    "## Task 2b. Training (10 pts)\n",
    "Implement the code to train the Encoder-Decoder model on the Irish-English data. You will write code for the following:\n",
    "* Training, validation and test dataloaders \n",
    "* A training loop which trains the model for 5 epoch. Evaluate the loop at the end of each Epoch. Print out the train perplexity and validation perplexity after each epoch."
   ]
  },
  {
   "cell_type": "code",
   "execution_count": 13,
   "metadata": {
    "id": "4cZ-6zHtwkZn"
   },
   "outputs": [],
   "source": [
    "# Your Code Here\n",
    "import torch \n",
    "from tensorflow.keras.utils import pad_sequences\n",
    "import pandas as pd\n",
    "from torch.utils.data import DataLoader, TensorDataset"
   ]
  },
  {
   "cell_type": "code",
   "execution_count": 14,
   "metadata": {
    "tags": []
   },
   "outputs": [],
   "source": [
    "def encode_features(\n",
    "    df: pd.DataFrame,\n",
    "    english: Language,\n",
    "    irish: Language,\n",
    "    pad_token: int = 0,\n",
    "    max_seq_length = 10\n",
    "):\n",
    "    \n",
    "    source = []\n",
    "    target = []\n",
    "    \n",
    "    for _, row in df.iterrows():\n",
    "        source.append(english.encodeSentence(row[\"source\"]))\n",
    "        target.append(irish.encodeSentence(row[\"target\"]))\n",
    "        \n",
    "    source = pad_sequences(\n",
    "        source,\n",
    "        maxlen = max_seq_length,\n",
    "        padding = \"post\",\n",
    "        truncating = \"post\",\n",
    "        value = pad_token\n",
    "    )\n",
    "    \n",
    "    target = pad_sequences(\n",
    "        target,\n",
    "        maxlen = max_seq_length,\n",
    "        padding = \"post\",\n",
    "        truncating = \"post\",\n",
    "        value = pad_token\n",
    "    )\n",
    "    \n",
    "    return source, target"
   ]
  },
  {
   "cell_type": "code",
   "execution_count": 15,
   "metadata": {
    "tags": []
   },
   "outputs": [
    {
     "name": "stdout",
     "output_type": "stream",
     "text": [
      "Shapes of train source (10000, 10), and target (10000, 10)\n",
      "Shapes of val source (1000, 10), and target (1000, 10)\n",
      "Shapes of test source (1000, 10), and target (1000, 10)\n"
     ]
    }
   ],
   "source": [
    "train_source, train_target = encode_features(train, english, irish)\n",
    "val_source, val_target = encode_features(val, english, irish)\n",
    "test_source, test_target = encode_features(test, english, irish)\n",
    "\n",
    "print(f\"Shapes of train source {train_source.shape}, and target {train_target.shape}\")\n",
    "print(f\"Shapes of val source {val_source.shape}, and target {val_target.shape}\")\n",
    "print(f\"Shapes of test source {test_source.shape}, and target {test_target.shape}\")"
   ]
  },
  {
   "cell_type": "code",
   "execution_count": 16,
   "metadata": {
    "tags": []
   },
   "outputs": [],
   "source": [
    "# Training, validation and test dataloaders\n",
    "\n",
    "train_dl = DataLoader(\n",
    "    TensorDataset(\n",
    "        torch.LongTensor(train_source),\n",
    "        torch.LongTensor(train_target)\n",
    "    ),\n",
    "    shuffle = True,\n",
    "    batch_size = 32\n",
    ")\n",
    "\n",
    "val_dl = DataLoader(\n",
    "    TensorDataset(\n",
    "        torch.LongTensor(val_source),\n",
    "        torch.LongTensor(val_target)\n",
    "    ),\n",
    "    shuffle = True,\n",
    "    batch_size = 32\n",
    ")\n",
    "\n",
    "test_dl = DataLoader(\n",
    "    TensorDataset(\n",
    "        torch.LongTensor(test_source),\n",
    "        torch.LongTensor(test_target)\n",
    "    ),\n",
    "    shuffle = True,\n",
    "    batch_size = 32\n",
    ")"
   ]
  },
  {
   "cell_type": "code",
   "execution_count": 17,
   "metadata": {
    "tags": []
   },
   "outputs": [
    {
     "name": "stdout",
     "output_type": "stream",
     "text": [
      "torch.Size([32, 10]) torch.Size([32, 10])\n"
     ]
    }
   ],
   "source": [
    "for batch in train_dl:\n",
    "    print( batch[0].shape, batch[1].shape )\n",
    "    break"
   ]
  },
  {
   "cell_type": "code",
   "execution_count": 18,
   "metadata": {
    "tags": []
   },
   "outputs": [
    {
     "name": "stdout",
     "output_type": "stream",
     "text": [
      "Epoch 0 | train loss 6.405 | train ppl 604.8617986785431 | val ppl 399.81422431092756\n",
      "Epoch 1 | train loss 5.755 | train ppl 315.7655475242052 | val ppl 368.706155409357\n",
      "Epoch 2 | train loss 5.606 | train ppl 272.0538432960144 | val ppl 337.3091942259041\n",
      "Epoch 3 | train loss 5.485 | train ppl 241.04894399802745 | val ppl 325.70758489800846\n",
      "Epoch 4 | train loss 5.364 | train ppl 213.5775503062535 | val ppl 301.87106828279025\n"
     ]
    }
   ],
   "source": [
    "from tqdm import tqdm\n",
    "import numpy as np \n",
    "import random\n",
    "\n",
    "optimizer = torch.optim.Adam(model.parameters())\n",
    "\n",
    "model.to(device)\n",
    "\n",
    "EPOCHS = 5\n",
    "best_val_loss = float('inf')\n",
    "\n",
    "for epoch in range(EPOCHS):\n",
    "\n",
    "    model.train()\n",
    "    epoch_loss = 0\n",
    "    for batch in train_dl:\n",
    "\n",
    "        src = batch[0].transpose(1, 0).to(device)\n",
    "        trg = batch[1].transpose(1, 0).to(device)\n",
    "\n",
    "        optimizer.zero_grad()\n",
    "\n",
    "        output = model(src, trg)\n",
    "\n",
    "        output_dim = output.shape[-1]\n",
    "        output = output[1:].view(-1, output_dim).to(device)\n",
    "        trg = trg[1:].reshape(-1)\n",
    "     \n",
    "        loss = F.cross_entropy(output, trg)\n",
    "        loss.backward()\n",
    "\n",
    "        torch.nn.utils.clip_grad_norm_(model.parameters(), 1)\n",
    "        optimizer.step()\n",
    "        epoch_loss += loss.item()\n",
    "\n",
    "    train_loss = round(epoch_loss / len(train_dl), 3)\n",
    "  \n",
    "    eval_loss = 0\n",
    "    model.eval()\n",
    "    for batch in val_dl:\n",
    "        src = batch[0].transpose(1, 0).to(device)\n",
    "        trg = batch[1].transpose(1, 0).to(device)\n",
    "\n",
    "        with torch.no_grad():\n",
    "            output = model(src, trg)\n",
    "\n",
    "            output_dim = output.shape[-1]\n",
    "            output = output[1:].view(-1, output_dim).to(device)\n",
    "            trg = trg[1:].reshape(-1)\n",
    "\n",
    "            loss = F.cross_entropy(output, trg)\n",
    "\n",
    "            eval_loss += loss.item()\n",
    "  \n",
    "    val_loss = round(eval_loss / len(val_dl), 3)\n",
    "    print(f\"Epoch {epoch} | train loss {train_loss} | train ppl {np.exp(train_loss)} | val ppl {np.exp(val_loss)}\")\n",
    "\n",
    "\n",
    "    if val_loss < best_val_loss:\n",
    "        best_val_loss = val_loss\n",
    "        torch.save(model.state_dict(), 'best-model.pt')  "
   ]
  },
  {
   "cell_type": "markdown",
   "metadata": {
    "id": "QofrQ1GAwnDz"
   },
   "source": [
    "# Task 2c. Evaluation on the Test Set (10 pts)\n",
    "Use the trained model to translate the text from the source language into the target language on the test set. Evaluate the performance of the model on the test set using the BLEU metric and print out the average the BLEU score."
   ]
  },
  {
   "cell_type": "code",
   "execution_count": 19,
   "metadata": {
    "id": "OJP145YuxAgq"
   },
   "outputs": [],
   "source": [
    "# Your code here"
   ]
  },
  {
   "cell_type": "code",
   "execution_count": 20,
   "metadata": {
    "tags": []
   },
   "outputs": [],
   "source": [
    "def translate_sentence(\n",
    "    text: str,\n",
    "    model: EncoderDecoder,\n",
    "    english: Language,\n",
    "    irish: Language,\n",
    "    device: str,\n",
    "    max_len: int = 10\n",
    ") -> str:\n",
    "    \n",
    "    # encode english sentence and convert to tensor\n",
    "    input_ids = english.encodeSentence(text)\n",
    "    input_tensor = torch.LongTensor(input_ids).unsqueeze(1).to(device)\n",
    "    \n",
    "    # Get encoder hidden states\n",
    "    with torch.no_grad():\n",
    "        hidden, cell = model.encoder(input_tensor)\n",
    "        \n",
    "    # build target holder list\n",
    "    trg_indexes = [irish.word2index[\"SOS\"]]\n",
    "    \n",
    "    # loop over sequence length of target sentence\n",
    "    for i in range(max_len):\n",
    "        trg_tensor = torch.LongTensor([trg_indexes[-1]]).to(device)\n",
    "        \n",
    "        # decide the encoder outputs with respect to current target word\n",
    "        with torch.no_grad():\n",
    "            prediction, hidden, cell = model.decoder(trg_tensor, hidden, cell)\n",
    "            \n",
    "        # retrieve most likely word over target distribution\n",
    "        pred_token = torch.argmax(prediction).item()\n",
    "        trg_indexes.append(pred_token)\n",
    "        \n",
    "        if pred_token == irish.word2index[\"EOS\"]:\n",
    "            break\n",
    "            \n",
    "    return \"\".join(irish.decodeIds(trg_indexes))"
   ]
  },
  {
   "cell_type": "code",
   "execution_count": 31,
   "metadata": {
    "tags": []
   },
   "outputs": [],
   "source": [
    "def bleu_score(reference_sentence, candidate_sentence):\n",
    "    return len([word for word in candidate_sentence if word in reference_sentence]) / len(reference_sentence)"
   ]
  },
  {
   "cell_type": "code",
   "execution_count": 35,
   "metadata": {
    "tags": []
   },
   "outputs": [
    {
     "name": "stdout",
     "output_type": "stream",
     "text": [
      "The average the BLEU-1 score: 0.31\n"
     ]
    }
   ],
   "source": [
    "avg_bleu1_score = 0.0\n",
    "bleus = []\n",
    "\n",
    "for _, row in test.iterrows():\n",
    "    source_sentence = row[\"source\"]\n",
    "    reference_sentence = row[\"target\"]\n",
    "    candidate_sentence = translate_sentence(text=source_sentence,\n",
    "                                            model=model,\n",
    "                                            english = english,\n",
    "                                            irish=irish,\n",
    "                                            device=device\n",
    "                                           )\n",
    "    bleu1_score = bleu_score(reference_sentence=reference_sentence, \n",
    "                            candidate_sentence=candidate_sentence)\n",
    "    \n",
    "    bleus.append(bleu1_score)\n",
    "    \n",
    "    # print(f\"source_sentence: {source_sentence}\\nreference_sentence: {reference_sentence}\\ncandidate_sentence: {candidate_sentence}\\nBLEU score: {bleu1_score}\")"
   ]
  },
  {
   "cell_type": "code",
   "execution_count": 39,
   "metadata": {},
   "outputs": [
    {
     "data": {
      "image/png": "[encoded data removed]",
      "text/plain": [
       "<Figure size 1000x500 with 1 Axes>"
      ]
     },
     "metadata": {},
     "output_type": "display_data"
    }
   ],
   "source": [
    "# plot and evaluate the performance of the model on the test set using the BLEU metric\n",
    "import matplotlib.pyplot as plt\n",
    "\n",
    "#plt.plot(bleus)\n",
    "fig = plt.figure(figsize=(10, 5))\n",
    "plt.xlabel(\"Index of sentences\")\n",
    "plt.ylabel(\"BLEU score\")\n",
    "plt.title(\"the performance of the model on the test set using the BLEU metric\")\n",
    "plt.plot(bleus)\n",
    "plt.show()"
   ]
  },
  {
   "cell_type": "code",
   "execution_count": 40,
   "metadata": {
    "tags": []
   },
   "outputs": [
    {
     "name": "stdout",
     "output_type": "stream",
     "text": [
      "The average the BLEU-1 score: 0.31\n"
     ]
    }
   ],
   "source": [
    "avg_bleu1_score = sum(bleus) / len(test)\n",
    "\n",
    "print(f\"The average the BLEU-1 score: {avg_bleu1_score:.3}\")"
   ]
  },
  {
   "cell_type": "markdown",
   "metadata": {
    "id": "_brvXpVJxD7e"
   },
   "source": [
    "## Task 3. Improving NMT using Attention (10 pts) \n",
    "Extend the Encoder-Decoder model from Task 2 with the attention mechanism. Retrain the model and evaluate on test set. Print the updated average BLEU score on the test set. In a few sentences explains which model is the best for translation. "
   ]
  },
  {
   "cell_type": "code",
   "execution_count": 41,
   "metadata": {
    "id": "SAOUlKtv0MUn"
   },
   "outputs": [],
   "source": [
    "# extend encoder with GRU\n",
    "# code reference: lab materials\n",
    "\n",
    "class EncoderGRU(nn.Module):\n",
    "    def __init__(\n",
    "        self, \n",
    "        input_vocab_size,  # size of source vocabulary  \n",
    "        hidden_dim,        # hidden dimension of embeddings\n",
    "        encoder_hid_dim,   # gru hidden dim\n",
    "        decoder_hid_dim,   # decoder hidden dim \n",
    "        dropout_prob = .5\n",
    "      ):\n",
    "      \n",
    "        super().__init__()\n",
    "        self.embedding = nn.Embedding(input_vocab_size, hidden_dim)\n",
    "        self.rnn = nn.GRU(hidden_dim, encoder_hid_dim, bidirectional = True)\n",
    "        self.fc = nn.Linear(encoder_hid_dim * 2, decoder_hid_dim)\n",
    "        self.dropout = nn.Dropout(dropout_prob)\n",
    "        \n",
    "    def forward(self, src):\n",
    "        \n",
    "        #src = [src len, batch size]\n",
    "        embedded = self.dropout(self.embedding(src))\n",
    "        \n",
    "        #embedded = [src len, batch size, emb dim]\n",
    "        outputs, hidden = self.rnn(embedded)\n",
    "                \n",
    "        #outputs = [src len, batch size, hid dim * num directions]\n",
    "        #hidden = [n layers * num directions, batch size, hid dim]        \n",
    "        #hidden is stacked [forward_1, backward_1, forward_2, backward_2, ...]\n",
    "        #outputs are always from the last layer\n",
    "        \n",
    "        #hidden [-2, :, : ] is the last of the forwards GRU\n",
    "        #hidden [-1, :, : ] is the last of the backwards GRU\n",
    "        \n",
    "        #initial decoder hidden is final hidden state of the forwards and backwards \n",
    "        #  encoder RNNs fed through a linear layer\n",
    "        hidden = torch.tanh(self.fc(torch.cat((hidden[-2,:,:], hidden[-1,:,:]), dim = 1)))        \n",
    "        return outputs, hidden"
   ]
  },
  {
   "cell_type": "code",
   "execution_count": 42,
   "metadata": {
    "tags": []
   },
   "outputs": [],
   "source": [
    "class Attention(nn.Module):\n",
    "    def __init__(\n",
    "        self, \n",
    "        enc_hid_dim,      # Encoder hidden dimension\n",
    "        dec_hid_dim       # Decoder hidden dimension \n",
    "      ):\n",
    "        super().__init__()\n",
    "        \n",
    "        self.attn = nn.Linear((enc_hid_dim * 2) + dec_hid_dim, dec_hid_dim)\n",
    "        self.v = nn.Linear(dec_hid_dim, 1, bias = False)\n",
    "        \n",
    "    def forward(self, hidden, encoder_outputs):\n",
    "        \n",
    "        #hidden = [batch size, dec hid dim]\n",
    "        #encoder_outputs = [src len, batch size, enc hid dim * 2]\n",
    "        batch_size = encoder_outputs.shape[1]\n",
    "        src_len = encoder_outputs.shape[0]\n",
    "        \n",
    "        #repeat decoder hidden state src_len times\n",
    "        hidden = hidden.unsqueeze(1).repeat(1, src_len, 1)\n",
    "        \n",
    "        encoder_outputs = encoder_outputs.permute(1, 0, 2)\n",
    "        #hidden = [batch size, src len, dec hid dim]\n",
    "        #encoder_outputs = [batch size, src len, enc hid dim * 2]\n",
    "        \n",
    "        energy = torch.tanh(self.attn(torch.cat((hidden, encoder_outputs), dim = 2))) \n",
    "        \n",
    "        #energy = [batch size, src len, dec hid dim]\n",
    "        attention = self.v(energy).squeeze(2)\n",
    "        \n",
    "        #attention output: [batch size, src len]\n",
    "        return F.softmax(attention, dim=1)"
   ]
  },
  {
   "cell_type": "code",
   "execution_count": 43,
   "metadata": {},
   "outputs": [],
   "source": [
    "# extend decoder with GRU\n",
    "class DecoderGRU(nn.Module):\n",
    "    def __init__(\n",
    "        self, \n",
    "        target_vocab_size,    # Size of target vocab \n",
    "        hidden_dim,           # hidden size of embedding  \n",
    "        enc_hid_dim, \n",
    "        dec_hid_dim, \n",
    "        dropout\n",
    "      ):\n",
    "        super().__init__()\n",
    "\n",
    "        self.output_dim = target_vocab_size\n",
    "        self.attention = Attention(enc_hid_dim, dec_hid_dim)\n",
    "        \n",
    "        self.embedding = nn.Embedding(target_vocab_size, hidden_dim)\n",
    "        \n",
    "        self.rnn = nn.GRU((enc_hid_dim * 2) + hidden_dim, dec_hid_dim)\n",
    "        \n",
    "        self.fc_out = nn.Linear(\n",
    "            (enc_hid_dim * 2) + dec_hid_dim + hidden_dim, \n",
    "            target_vocab_size\n",
    "          )\n",
    "        self.dropout = nn.Dropout(dropout)\n",
    "        \n",
    "    def forward(self, input, hidden, encoder_outputs):\n",
    "             \n",
    "        #input = [batch size]\n",
    "        #hidden = [batch size, dec hid dim]\n",
    "        #encoder_outputs = [src len, batch size, enc hid dim * 2]\n",
    "        \n",
    "        input = input.unsqueeze(0)  # [1, batch size]\n",
    "        \n",
    "        embedded = self.dropout(self.embedding(input))  # [1, batch size, emb dim]\n",
    "        \n",
    "        a = self.attention(hidden, encoder_outputs)     # [batch size, src len]\n",
    "        a = a.unsqueeze(1)                              # [batch size, 1, src len]\n",
    "        \n",
    "        encoder_outputs = encoder_outputs.permute(1, 0, 2) # [batch size, src len, enc hid dim * 2]\n",
    "        \n",
    "        weighted = torch.bmm(a, encoder_outputs)           # [batch size, 1, enc hid dim * 2]\n",
    "        weighted = weighted.permute(1, 0, 2)               # [1, batch size, enc hid dim * 2]\n",
    "        \n",
    "        rnn_input = torch.cat((embedded, weighted), dim = 2) # [1, batch size, (enc hid dim * 2) + emb dim]\n",
    "\n",
    "        \n",
    "        #output = [seq len, batch size, dec hid dim * n directions]\n",
    "        #hidden = [n layers * n directions, batch size, dec hid dim]    \n",
    "        output, hidden = self.rnn(rnn_input, hidden.unsqueeze(0))\n",
    "        \n",
    "        #seq len, n layers and n directions will always be 1 in this decoder, therefore:\n",
    "        #output = [1, batch size, dec hid dim]\n",
    "        #hidden = [1, batch size, dec hid dim]\n",
    "        \n",
    "        embedded = embedded.squeeze(0)\n",
    "        output = output.squeeze(0)\n",
    "        weighted = weighted.squeeze(0)\n",
    "        \n",
    "        prediction = self.fc_out(torch.cat((output, weighted, embedded), dim = 1)) # [batch size, output dim]\n",
    "        return prediction, hidden.squeeze(0)"
   ]
  },
  {
   "cell_type": "code",
   "execution_count": 44,
   "metadata": {},
   "outputs": [],
   "source": [
    "import random \n",
    "class Seq2Seq(nn.Module):\n",
    "    def __init__(self, encoder, decoder):\n",
    "        super().__init__()\n",
    "        \n",
    "        self.encoder = encoder\n",
    "        self.decoder = decoder\n",
    "        \n",
    "    def forward(self, src, trg, teacher_forcing_ratio = 0.5):\n",
    "        \n",
    "        #src = [src len, batch size]\n",
    "        #trg = [trg len, batch size]\n",
    "        #teacher_forcing_ratio is probability to use teacher forcing\n",
    "        #e.g. if teacher_forcing_ratio is 0.75 we use teacher forcing 75% of the time     \n",
    "        batch_size = src.shape[1]\n",
    "        trg_len = trg.shape[0]\n",
    "        trg_vocab_size = self.decoder.output_dim\n",
    "        \n",
    "        #tensor to store decoder outputs\n",
    "        outputs = torch.zeros(trg_len, batch_size, trg_vocab_size)\n",
    "        \n",
    "        #encoder_outputs is all hidden states of the input sequence, back and forwards\n",
    "        #hidden is the final forward and backward hidden states, passed through a linear layer\n",
    "        encoder_outputs, hidden = self.encoder(src)\n",
    "                \n",
    "        #first input to the decoder is the <sos> tokens\n",
    "        input = trg[0,:]\n",
    "        \n",
    "        for t in range(1, trg_len):     \n",
    "            #insert input token embedding, previous hidden state and all encoder hidden states\n",
    "            #receive output tensor (predictions) and new hidden state\n",
    "            output, hidden = self.decoder(input, hidden, encoder_outputs)\n",
    "            \n",
    "            #place predictions in a tensor holding predictions for each token\n",
    "            outputs[t] = output\n",
    "            \n",
    "            #decide if we are going to use teacher forcing or not\n",
    "            teacher_force = random.random() < teacher_forcing_ratio\n",
    "            \n",
    "            #get the highest predicted token from our predictions\n",
    "            top1 = output.argmax(1) \n",
    "            \n",
    "            #if teacher forcing, use actual next token as next input\n",
    "            #if not, use predicted token\n",
    "            input = trg[t] if teacher_force else top1\n",
    "        return outputs"
   ]
  },
  {
   "cell_type": "code",
   "execution_count": 45,
   "metadata": {},
   "outputs": [
    {
     "data": {
      "text/plain": [
       "Seq2Seq(\n",
       "  (encoder): EncoderGRU(\n",
       "    (embedding): Embedding(11828, 256)\n",
       "    (rnn): GRU(256, 128, bidirectional=True)\n",
       "    (fc): Linear(in_features=256, out_features=128, bias=True)\n",
       "    (dropout): Dropout(p=0.5, inplace=False)\n",
       "  )\n",
       "  (decoder): DecoderGRU(\n",
       "    (attention): Attention(\n",
       "      (attn): Linear(in_features=384, out_features=128, bias=True)\n",
       "      (v): Linear(in_features=128, out_features=1, bias=False)\n",
       "    )\n",
       "    (embedding): Embedding(16240, 256)\n",
       "    (rnn): GRU(512, 128)\n",
       "    (fc_out): Linear(in_features=640, out_features=16240, bias=True)\n",
       "    (dropout): Dropout(p=0.5, inplace=False)\n",
       "  )\n",
       ")"
      ]
     },
     "execution_count": 45,
     "metadata": {},
     "output_type": "execute_result"
    }
   ],
   "source": [
    "INPUT_DIM = english.n_words\n",
    "OUTPUT_DIM = irish.n_words\n",
    "ENC_EMB_DIM = 256\n",
    "DEC_EMB_DIM = 256\n",
    "ENC_HID_DIM = 128\n",
    "DEC_HID_DIM = 128\n",
    "ENC_DROPOUT = 0.5\n",
    "DEC_DROPOUT = 0.5\n",
    "\n",
    "enc = EncoderGRU(INPUT_DIM, ENC_EMB_DIM, ENC_HID_DIM, DEC_HID_DIM, ENC_DROPOUT)\n",
    "dec = DecoderGRU(OUTPUT_DIM, DEC_EMB_DIM, ENC_HID_DIM, DEC_HID_DIM, DEC_DROPOUT)\n",
    "\n",
    "seq2seq_model = Seq2Seq(enc, dec)\n",
    "\n",
    "def init_weights(m):\n",
    "    for name, param in m.named_parameters():\n",
    "        if 'weight' in name:\n",
    "            nn.init.normal_(param.data, mean=0, std=0.01)\n",
    "        else:\n",
    "            nn.init.constant_(param.data, 0)\n",
    "            \n",
    "seq2seq_model.apply(init_weights)"
   ]
  },
  {
   "cell_type": "code",
   "execution_count": 46,
   "metadata": {
    "tags": []
   },
   "outputs": [
    {
     "name": "stderr",
     "output_type": "stream",
     "text": [
      "/opt/homebrew/Caskroom/miniconda/base/envs/research/lib/python3.9/site-packages/torch/autograd/__init__.py:204: UserWarning: 1MPS: no support for int64 reduction ops, casting it to int32 (Triggered internally at /Users/runner/work/pytorch/pytorch/pytorch/aten/src/ATen/native/mps/operations/ReduceOps.mm:143.)\n",
      "  Variable._execution_engine.run_backward(  # Calls into the C++ engine to run the backward pass\n"
     ]
    },
    {
     "name": "stdout",
     "output_type": "stream",
     "text": [
      "Epoch 0 | train loss 9.695 | train ppl 16236.222792589699 | val ppl 16236.222792589699\n",
      "Epoch 1 | train loss 9.695 | train ppl 16236.222792589699 | val ppl 16236.222792589699\n",
      "Epoch 2 | train loss 9.695 | train ppl 16236.222792589699 | val ppl 16236.222792589699\n",
      "Epoch 3 | train loss 9.695 | train ppl 16236.222792589699 | val ppl 16236.222792589699\n",
      "Epoch 4 | train loss 9.695 | train ppl 16236.222792589699 | val ppl 16236.222792589699\n"
     ]
    }
   ],
   "source": [
    "# training and evaluation\n",
    "\n",
    "optimizer = torch.optim.Adam(seq2seq_model.parameters())\n",
    "\n",
    "device = \"mps\" if torch.backends.mps.is_available() else \"cpu\"\n",
    "\n",
    "seq2seq_model.to(device)\n",
    "\n",
    "EPOCHS = 5\n",
    "best_val_loss = float('inf')\n",
    "\n",
    "for epoch in range(EPOCHS):\n",
    "\n",
    "    seq2seq_model.train()\n",
    "    epoch_loss = 0\n",
    "    for batch in train_dl:\n",
    "\n",
    "        src = batch[0].transpose(1, 0).to(device)\n",
    "        trg = batch[1].transpose(1, 0).to(device)\n",
    "\n",
    "        optimizer.zero_grad()\n",
    "\n",
    "        output = seq2seq_model(src, trg)\n",
    "\n",
    "        output_dim = output.shape[-1]\n",
    "        output = output[1:].view(-1, output_dim).to(device)\n",
    "        trg = trg[1:].reshape(-1)\n",
    "\n",
    "        loss = F.cross_entropy(output, trg)\n",
    "        loss.backward()\n",
    "\n",
    "        torch.nn.utils.clip_grad_norm_(seq2seq_model.parameters(), 1)\n",
    "        optimizer.step()\n",
    "        epoch_loss += loss.item()\n",
    "\n",
    "    train_loss = round(epoch_loss / len(train_dl), 3)\n",
    "  \n",
    "    eval_loss = 0\n",
    "    seq2seq_model.eval()\n",
    "    for batch in val_dl:\n",
    "        src = batch[0].transpose(1, 0).to(device)\n",
    "        trg = batch[1].transpose(1, 0).to(device)\n",
    "\n",
    "        with torch.no_grad():\n",
    "            output = seq2seq_model(src, trg)\n",
    "\n",
    "            output_dim = output.shape[-1]\n",
    "            output = output[1:].view(-1, output_dim).to(device)\n",
    "            trg = trg[1:].reshape(-1)\n",
    "\n",
    "            loss = F.cross_entropy(output, trg)\n",
    "\n",
    "            eval_loss += loss.item()\n",
    "  \n",
    "    val_loss = round(eval_loss / len(val_dl), 3)\n",
    "    print(f\"Epoch {epoch} | train loss {train_loss} | train ppl {np.exp(train_loss)} | val ppl {np.exp(val_loss)}\")\n",
    "\n",
    "\n",
    "    if val_loss < best_val_loss:\n",
    "        best_val_loss = val_loss\n",
    "        torch.save(seq2seq_model.state_dict(), 'best-model.pt')  "
   ]
  },
  {
   "cell_type": "code",
   "execution_count": 56,
   "metadata": {
    "tags": []
   },
   "outputs": [],
   "source": [
    "def translate_sentence(\n",
    "    text: str, \n",
    "    model: EncoderDecoder, \n",
    "    english: Language,\n",
    "    irish: Language,\n",
    "    device: str,\n",
    "    max_len: int = 10,\n",
    "  ) -> str:\n",
    "\n",
    "    # Encode english sentence and convert to tensor\n",
    "    input_ids = english.encodeSentence(text)\n",
    "    input_tensor = torch.LongTensor(input_ids).unsqueeze(1).to(device)\n",
    "\n",
    "    # Get encooder hidden states\n",
    "    with torch.no_grad():\n",
    "        encoder_outputs, hidden = model.encoder(input_tensor)\n",
    "\n",
    "    # Build target holder list\n",
    "    trg_indexes = [irish.word2index[\"SOS\"]]\n",
    "\n",
    "    # Loop over sequence length of target sentence\n",
    "    for i in range(max_len):\n",
    "        trg_tensor = torch.LongTensor([trg_indexes[-1]]).to(device)\n",
    "\n",
    "        # Decode the encoder outputs with respect to current target word\n",
    "        with torch.no_grad():\n",
    "            output, hidden = model.decoder(trg_tensor, hidden, encoder_outputs)\n",
    "\n",
    "        # Retrieve most likely word over target distribution\n",
    "        pred_token = torch.argmax(output).item()\n",
    "        trg_indexes.append(pred_token)\n",
    "\n",
    "        if pred_token == irish.word2index[\"EOS\"]:\n",
    "            break\n",
    "\n",
    "    return \"\".join(irish.decodeIds(trg_indexes))"
   ]
  },
  {
   "cell_type": "code",
   "execution_count": 57,
   "metadata": {
    "tags": []
   },
   "outputs": [],
   "source": [
    "avg_bleu1_score = 0.0\n",
    "bleus = []\n",
    "\n",
    "for _, row in test.iterrows():\n",
    "    source_sentence = row[\"source\"]\n",
    "    reference_sentence = row[\"target\"]\n",
    "    candidate_sentence = translate_sentence(text=source_sentence,\n",
    "                                            model=seq2seq_model,\n",
    "                                            english = english,\n",
    "                                            irish=irish,\n",
    "                                            device=device\n",
    "                                           )\n",
    "    bleu1_score = bleu_score(reference_sentence=reference_sentence, \n",
    "                            candidate_sentence=candidate_sentence)\n",
    "    \n",
    "    bleus.append(bleu1_score)\n",
    "    \n",
    "    # print(f\"source_sentence: {source_sentence}\\nreference_sentence: {reference_sentence}\\ncandidate_sentence: {candidate_sentence}\\nBLEU score: {bleu1_score}\")"
   ]
  },
  {
   "cell_type": "code",
   "execution_count": 58,
   "metadata": {
    "tags": []
   },
   "outputs": [
    {
     "data": {
      "image/png": "[encoded data removed]",
      "text/plain": [
       "<Figure size 1000x500 with 1 Axes>"
      ]
     },
     "metadata": {},
     "output_type": "display_data"
    }
   ],
   "source": [
    "# plot and evaluate the performance of the model on the test set using the BLEU metric\n",
    "import matplotlib.pyplot as plt\n",
    "\n",
    "#plt.plot(bleus)\n",
    "fig = plt.figure(figsize=(10, 5))\n",
    "plt.xlabel(\"Index of sentences\")\n",
    "plt.ylabel(\"BLEU score\")\n",
    "plt.title(\"the performance of the model on the test set using the BLEU metric\")\n",
    "plt.plot(bleus)\n",
    "plt.show()"
   ]
  },
  {
   "cell_type": "code",
   "execution_count": 62,
   "metadata": {
    "tags": []
   },
   "outputs": [
    {
     "name": "stdout",
     "output_type": "stream",
     "text": [
      "The average BLEU-1 score: 0.295\n"
     ]
    }
   ],
   "source": [
    "avg_bleu1_score = sum(bleus) / len(test)\n",
    "\n",
    "print(f\"The average BLEU-1 score: {avg_bleu1_score:.3}\")"
   ]
  },
  {
   "cell_type": "markdown",
   "metadata": {},
   "source": [
    "**Comparison of the two models implemented above based on this translation task.**\n",
    "\n",
    "EncoderDecoder model without attention proved with better performance than Sequence2Sequence model with attention mechanism. The range of the BLEU-1 score of EncoderDecoder model is between 0.0 and 2.0, whereas the range of the BLEU-1 score of Sequence2Sequence model is between 0.0 and 3.5. In addition, the average BLEU-1 score of EncoderDecoder model is 0.31 which is better than the average BLEU score of the Sequence2Sequence model which is 0.295. Therefore, EncoderDecoder model performs better than Sequence2Sequence model does in this case."
   ]
  },
  {
   "cell_type": "code",
   "execution_count": null,
   "metadata": {},
   "outputs": [],
   "source": []
  }
 ],
 "metadata": {
  "colab": {
   "provenance": []
  },
  "kernelspec": {
   "display_name": "Python 3 (ipykernel)",
   "language": "python",
   "name": "python3"
  },
  "language_info": {
   "codemirror_mode": {
    "name": "ipython",
    "version": 3
   },
   "file_extension": ".py",
   "mimetype": "text/x-python",
   "name": "python",
   "nbconvert_exporter": "python",
   "pygments_lexer": "ipython3",
   "version": "3.9.16"
  }
 },
 "nbformat": 4,
 "nbformat_minor": 4
}
